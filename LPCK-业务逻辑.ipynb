{
 "cells": [
  {
   "cell_type": "markdown",
   "metadata": {},
   "source": [
    "Goal：\n",
    "\n",
    "1. 数据标准化和查询平台\n",
    "1. 提供直观且对业务切实有帮助的配件、整案价格数据分析，\n",
    "2. 建立合理实用的汽车配件甚至整案的价格推荐模型\n",
    "2. 建立考核、对比的动态指标\n",
    "3. 挖掘符合汽车保险业务需求隐含规律\n",
    "\n",
    "难点：\n",
    "1.\t数据标准化程度不够\n",
    "\n",
    "2. 公司之间的信息壁垒和标准化差异\n",
    "\n",
    "3. 什么才是合理的价格推荐模型？\n",
    "\n",
    "4. 如何挖掘具有实际价值和可行的汽车保险业务的隐含规律？\n",
    "\n",
    "优势和机遇：\n",
    "\n",
    "1.\t我们拥有行业数据+保险公司数据\n",
    "\n",
    "2. 数据标准化已经努力实践了多年\n",
    "\n",
    "2. 行业的专业性\n",
    "\n",
    "3. 大数据分析挖掘平台手段\n",
    "\n",
    "（数据来源主要包括第三方数据提供商和日常核报价回收二部分。）\n"
   ]
  },
  {
   "cell_type": "markdown",
   "metadata": {},
   "source": [
    "# Part one：  数据分析及可视化（Explore Data Analysis）"
   ]
  },
  {
   "cell_type": "markdown",
   "metadata": {},
   "source": [
    " Agenda：\n",
    " \n",
    "  1.1 多维度分析\n",
    "  \n",
    "  1.2 "
   ]
  },
  {
   "cell_type": "markdown",
   "metadata": {},
   "source": [
    "### 多维度分析：\n",
    "对空间、时间、车型品牌等多维度、动态地分析配件价格波动和品牌更新情况，形成清晰简明、合理实用的分析报表和统计分析图形：其他维度：根据具体单个修理厂、供应商或者不同配件品质进行价格分析。\n",
    "1.\t同一配件的历史价格分析与图表\n",
    "历史同配件定损清单\n",
    "2.\t同一配件\n"
   ]
  },
  {
   "cell_type": "markdown",
   "metadata": {},
   "source": [
    "### Raw Data "
   ]
  },
  {
   "cell_type": "markdown",
   "metadata": {},
   "source": [
    "定损信息\t承保信息\t第三方数据\t配件价格P\n",
    "事故时间\t地点\t维修厂\t车型"
   ]
  },
  {
   "cell_type": "markdown",
   "metadata": {},
   "source": [
    "### 1.1 多维度分析：\n",
    "对空间、时间、车型品牌等多维度、动态地分析配件价格波动和品牌更新情况，形成清晰简明、合理实用的分析报表和统计分析图形：其他维度：根据具体单个修理厂、供应商或者不同配件品质进行价格分析。\n",
    "1. 同一配件的历史价格分析与图表\n",
    "历史同配件定损清单\n",
    "2. 同一配件\n"
   ]
  },
  {
   "cell_type": "code",
   "execution_count": null,
   "metadata": {
    "collapsed": true
   },
   "outputs": [],
   "source": []
  },
  {
   "cell_type": "markdown",
   "metadata": {},
   "source": [
    "#  Part two : 数据挖掘:\n",
    "\n",
    "Goal：\n",
    " - 如何利用现有数据来帮助现实的保险业务需求\n",
    "\n",
    "汽车保险业务需求：\n",
    "\n",
    "Agenda:\n",
    "\n",
    "   2-1  配件价格指导推荐\n",
    "   \n",
    "   2-2  整案模型与分析\n",
    "   \n",
    "   2-3\t挖掘业务隐含规律\n",
    "   \n",
    "   2-4\t动态指标意义和建立\n",
    "\n",
    "    ？？ 风险模型\n",
    "  \n"
   ]
  },
  {
   "cell_type": "code",
   "execution_count": null,
   "metadata": {
    "collapsed": true
   },
   "outputs": [],
   "source": []
  },
  {
   "cell_type": "code",
   "execution_count": null,
   "metadata": {
    "collapsed": true
   },
   "outputs": [],
   "source": []
  },
  {
   "cell_type": "markdown",
   "metadata": {},
   "source": [
    "## 2.1. 配件价格指导推荐\n"
   ]
  },
  {
   "cell_type": "markdown",
   "metadata": {},
   "source": [
    "**Goal：**\n",
    "\n",
    "在多维度数据分析基础之上，在空间、时间、车型等不同的维度，运用数学统计模型建立相应配件提出实时配件指导价模型，提出配件指导价格，从而指导和规范分公司和报核价区域中心的报核价操作，减少定损额度有效减损，管理和控制业务风险水平。"
   ]
  },
  {
   "cell_type": "markdown",
   "metadata": {},
   "source": [
    "**价格模型：**<br>\n",
    "1.当数据样本量充分时：<br>\n",
    "  通过对历史数据的大数据分析，形成多维度分析，并运用时间序列分析等数学统计模型对配件价格建立数学模型，具体步骤如下：\n",
    "  \n",
    "  ①用统计方法取得配件价格的时间序列动态数据。\n",
    "  \n",
    "  ②根据动态数据作相关图，进行相关分析，求自相关函数。相关图能显示出变化的趋势和周期，并能发现跳点和拐点。跳点是指与其他数据不一致的观测值。如果跳点是正确的观测值,在建模时应考虑进去,如果是反常现象，则应把跳点调整到期望值。拐点则是指时间序列从上升趋势突然变为下降趋势的点。如果存在拐点，则在建模时必须用不同的模型去分段拟合该时间序列，例如采用门限回归模型。\n",
    "  \n",
    "  ③辨识合适的随机模型,进行曲线拟合,即用通用随机模型去拟合时间序列的观测数据。对于短的或简单的时间序列，可用趋势模型和季节模型加上误差来进行拟合。对于平稳时间序列，可用通用ARMA模型（自回归滑动平均模型）及其特殊情况的自回归模型、滑动平均模型或组合-ARMA模型等来进行拟合。\n",
    "运用时间序列模型进行线性最优预测与控制，从而制定合理、严谨的推荐指导价格。\n",
    "\n",
    "\n",
    "2.当数据样本量不足时：<br>\n",
    "  可以通过放宽时间、空间、车型等维度扩充数据，再了、利用时间序列分析模型进行价格预测。\n",
    "    \n",
    "3.当样本数据稀少且价格波动较为平稳时：<br>\n",
    "提供多种价格参数估计，包括点估计、区间估计。\n",
    "\n",
    "4.当样本数据稀少且价格波动幅度较大时，可直接进行人工干预。\n"
   ]
  },
  {
   "cell_type": "code",
   "execution_count": null,
   "metadata": {
    "collapsed": true
   },
   "outputs": [],
   "source": []
  },
  {
   "cell_type": "markdown",
   "metadata": {},
   "source": [
    "## 2.2 整案模型"
   ]
  },
  {
   "cell_type": "code",
   "execution_count": null,
   "metadata": {
    "collapsed": true
   },
   "outputs": [],
   "source": []
  },
  {
   "cell_type": "code",
   "execution_count": null,
   "metadata": {
    "collapsed": true
   },
   "outputs": [],
   "source": []
  },
  {
   "cell_type": "markdown",
   "metadata": {},
   "source": [
    "## 2.3. 挖掘业务隐含规律"
   ]
  },
  {
   "cell_type": "markdown",
   "metadata": {},
   "source": [
    "利用多种数学的分析方法和数据挖掘技术建立模型，找出配件价格变动趋势及区域对比、异常区域识别等隐含的业务规律。为运营状况分析和决策支持提供洞见分析功能。 "
   ]
  },
  {
   "cell_type": "markdown",
   "metadata": {},
   "source": [
    "Agenda:\n",
    "    \n",
    "1. 异常区域识别\n",
    "\n",
    "2. 价格差异因素识别\n",
    "\n",
    "3. 出险配件排名\n",
    "\n",
    "4. 对标分析 \n",
    "\n",
    "5. 超标数据的相关性因素分析\n"
   ]
  },
  {
   "cell_type": "markdown",
   "metadata": {},
   "source": [
    "### 2.3.1. 异常区域识别\n",
    "什么是‘’异常‘’？\n",
    "\n",
    "如何找到‘’异常‘’？\n",
    "通过对大量数据采用机器学习方法，如SVM、Random Forest，智能识别配件异常的维修厂、4S店或分公司。\n"
   ]
  },
  {
   "cell_type": "code",
   "execution_count": null,
   "metadata": {
    "collapsed": true
   },
   "outputs": [],
   "source": []
  },
  {
   "cell_type": "markdown",
   "metadata": {},
   "source": [
    "### 2.3.2. 价格差异因素识别\n",
    "运用多因素方差分析法，分析机构之间价格存在着显著的价格差异的主要因素。\n",
    "\n"
   ]
  },
  {
   "cell_type": "markdown",
   "metadata": {},
   "source": [
    "### 2.3.3. 出险配件排名\n",
    "根据行业整体的数据，抽取数据排名，生成总公司的出险配件排名及各个保险公司的出险配件排。"
   ]
  },
  {
   "cell_type": "code",
   "execution_count": null,
   "metadata": {
    "collapsed": true
   },
   "outputs": [],
   "source": []
  },
  {
   "cell_type": "markdown",
   "metadata": {},
   "source": [
    "### 2.3.4.对标分析"
   ]
  },
  {
   "cell_type": "code",
   "execution_count": null,
   "metadata": {
    "collapsed": true
   },
   "outputs": [],
   "source": []
  },
  {
   "cell_type": "markdown",
   "metadata": {},
   "source": [
    "### 2.3.5. 超标数据的相关性因素分析"
   ]
  },
  {
   "cell_type": "markdown",
   "metadata": {},
   "source": [
    "运用价格模型，确定合理的价格区间，对于超过合计价格范围的配件价格进行相关性分析，确定是否存在于配件维修占比率（配件在某特定维修厂、4S店）\n"
   ]
  },
  {
   "cell_type": "markdown",
   "metadata": {},
   "source": [
    "## 2.4 建立动态指标"
   ]
  },
  {
   "cell_type": "markdown",
   "metadata": {},
   "source": [
    "**Goal**\n",
    "\n",
    "结合配件价格多维分析结果、指导价格模型，建立分公司各项动态指标：汽车配件价格指数、配件价格异常比例、配件引用频率、配件车价比指数等指导性指标，观察监控理赔配件价格的变化和相关分公司政策执行情况，形成KPI指标展示各分公司配件理赔优劣情况。\n",
    "\n",
    "**Agenda**\n",
    "  \n",
    "  2.4 -1 汽车配件价格指数、\n",
    " \n",
    "  配件价格异常比例、\n",
    "  \n",
    "  配件引用频率、\n",
    "  \n",
    "  配件车价比指数"
   ]
  },
  {
   "cell_type": "code",
   "execution_count": null,
   "metadata": {
    "collapsed": true
   },
   "outputs": [],
   "source": []
  },
  {
   "cell_type": "markdown",
   "metadata": {},
   "source": [
    "## 风险模型\n",
    "利用价格模型，对于超出范围的异常情况进行风险管控和警示，从而指导和规范分公司和报核价区域中心的报核价操作，管理和控制业务风险水平。 通过大数据平台的学习，挖掘定损单中配件和配件同时出现的比例，配件和配件内在关联性，配件和工时关系，配件和车型的关联性，配件的价格合理性等，并且计算规则和规则之间的权重，最终对于定损单中相关的风险进行评估和告警。\n"
   ]
  }
 ],
 "metadata": {
  "kernelspec": {
   "display_name": "Python [conda root]",
   "language": "python",
   "name": "conda-root-py"
  },
  "language_info": {
   "codemirror_mode": {
    "name": "ipython",
    "version": 2
   },
   "file_extension": ".py",
   "mimetype": "text/x-python",
   "name": "python",
   "nbconvert_exporter": "python",
   "pygments_lexer": "ipython2",
   "version": "2.7.13"
  }
 },
 "nbformat": 4,
 "nbformat_minor": 2
}
